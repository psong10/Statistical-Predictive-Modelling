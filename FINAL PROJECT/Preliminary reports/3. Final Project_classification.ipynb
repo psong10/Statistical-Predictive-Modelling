{
 "cells": [
  {
   "cell_type": "code",
   "execution_count": 98,
   "metadata": {},
   "outputs": [],
   "source": [
    "import pandas as pd ; import numpy as np; import random as rnd ;import math\n",
    "#importing data visualization packages\n",
    "import seaborn as sns ; import matplotlib.pyplot as plt\n",
    "%matplotlib inline\n",
    "#importing machine learning packages\n",
    "from sklearn.model_selection import cross_val_score\n",
    "from sklearn.linear_model import LogisticRegression\n",
    "from sklearn.svm import SVC, LinearSVC\n",
    "from sklearn.ensemble import RandomForestClassifier\n",
    "from sklearn.neighbors import KNeighborsClassifier\n",
    "from sklearn.naive_bayes import GaussianNB\n",
    "from sklearn.linear_model import Perceptron\n",
    "from sklearn.linear_model import SGDClassifier\n",
    "from sklearn.tree import DecisionTreeClassifier\n",
    "from sklearn.cross_validation import train_test_split\n",
    "from sklearn.metrics import accuracy_score\n",
    "from sklearn.ensemble import GradientBoostingClassifier\n",
    "from sklearn.neural_network import MLPClassifier\n",
    "from sklearn.preprocessing import Imputer\n",
    "from sklearn.metrics import roc_curve\n",
    "from sklearn.metrics import roc_auc_score\n",
    "from IPython.display import display, Math, Latex\n",
    "from sklearn.metrics import confusion_matrix\n",
    "from sklearn.model_selection import GridSearchCV, train_test_split\n",
    "from sklearn.metrics import mean_squared_error as mse, r2_score as r_2\n",
    "import matplotlib.pyplot as plt\n",
    "from sklearn.linear_model import LinearRegression\n",
    "import os; import warnings\n",
    "warnings.filterwarnings(\"ignore\",category=DeprecationWarning)\n",
    "from sklearn.exceptions import DataConversionWarning\n",
    "warnings.filterwarnings(action='ignore', category=DataConversionWarning)"
   ]
  },
  {
   "cell_type": "code",
   "execution_count": 100,
   "metadata": {},
   "outputs": [],
   "source": [
    "data = pd.read_csv(\"https://raw.githubusercontent.com/vigneshjmurali/Statistical-Predictive-Modelling/master/Datasets/data2.csv\")\n",
    "#data.head(3)"
   ]
  },
  {
   "cell_type": "markdown",
   "metadata": {},
   "source": [
    "## preprocessing"
   ]
  },
  {
   "cell_type": "code",
   "execution_count": 101,
   "metadata": {},
   "outputs": [
    {
     "name": "stdout",
     "output_type": "stream",
     "text": [
      "(8378, 122)\n"
     ]
    }
   ],
   "source": [
    "print(data.shape)\n",
    "#data.dtypes"
   ]
  },
  {
   "cell_type": "code",
   "execution_count": 102,
   "metadata": {},
   "outputs": [],
   "source": [
    "data[\"match\"]=data[\"match\"].astype('category') # Changing \"Y\"-Salary from Object type to Category type\n",
    "data[\"match_category\"]=data[\"match\"].cat.codes # Assigned encoders adding new columns\n",
    "data=data.select_dtypes(include=['uint8','int64','int8','float64']).copy() # Here i drop the object type to add int and uint type"
   ]
  },
  {
   "cell_type": "code",
   "execution_count": 103,
   "metadata": {},
   "outputs": [
    {
     "name": "stdout",
     "output_type": "stream",
     "text": [
      "(8378, 117)\n",
      "(8378, 1)\n",
      "(6283, 117)\n",
      "(2095, 117)\n",
      "(6283, 1)\n",
      "(2095, 1)\n"
     ]
    }
   ],
   "source": [
    "y_data = pd.DataFrame([data.match_category]).T # TAKING THE SALARY AS THE Y VARIABLE OR TARGET\n",
    "x_data = pd.DataFrame(data) # CONSIDERING ALL THE VARIABLES TO AS X VARIABLES AT FIRST\n",
    "x_data = data.drop(['match_category'], axis = 1) # DROPPING THE SALARY FROM THE X VARIABLES\n",
    "print (x_data.shape) ; print (y_data.shape) # PRINTING THE DIMENTION OF THE BOTH LEFTOVER \"Y\" & \"X\" VARIABLES\n",
    "from sklearn.cross_validation import train_test_split # TRAINING AND TEST SPLIT CROSS VALIDATAION\n",
    "xtrain_data, xtest_data, ytrain_data, ytest_data = train_test_split( \n",
    "    x_data, y_data, random_state = 1, test_size = 0.25) # THE TRAIN AND TEST SPLIT IS 75% AND 25 %\n",
    "print (xtrain_data.shape) ; print (xtest_data.shape) # PRINTING ALL THE X_TRAIN, X_TEST\n",
    "print (ytrain_data.shape) ; print (ytest_data.shape) # PRINTING ALL THE Y_TRAIN, Y_TEST"
   ]
  },
  {
   "cell_type": "markdown",
   "metadata": {},
   "source": [
    "## K Nearest Neighbors"
   ]
  },
  {
   "cell_type": "code",
   "execution_count": 104,
   "metadata": {},
   "outputs": [
    {
     "name": "stdout",
     "output_type": "stream",
     "text": [
      "Training accuracy = 100.0\n",
      "Testing accuracy = 75.99\n"
     ]
    }
   ],
   "source": [
    "model = KNeighborsClassifier(n_neighbors = 1)\n",
    "model.fit(xtrain_data, ytrain_data)\n",
    "#Evaluating the model on the test data set\n",
    "ymodel = model.predict(xtest_data)\n",
    "acc_knn1 = round(model.score(xtrain_data, ytrain_data) * 100, 2)\n",
    "print ('Training accuracy = {}'.format(acc_knn1))\n",
    "acc_knn = round(accuracy_score(ytest_data, ymodel) * 100, 2)\n",
    "print ('Testing accuracy = {}'.format(acc_knn))"
   ]
  },
  {
   "cell_type": "code",
   "execution_count": 105,
   "metadata": {},
   "outputs": [
    {
     "data": {
      "text/plain": [
       "<matplotlib.legend.Legend at 0x1efa8569390>"
      ]
     },
     "execution_count": 105,
     "metadata": {},
     "output_type": "execute_result"
    },
    {
     "data": {
      "image/png": "[encoded data removed]",
      "text/plain": [
       "<Figure size 432x288 with 1 Axes>"
      ]
     },
     "metadata": {
      "needs_background": "light"
     },
     "output_type": "display_data"
    }
   ],
   "source": [
    "training_accuracy = []\n",
    "test_accuracy = []\n",
    "# try n_neighbors from 1 to 14\n",
    "neighbors_settings = range(1, 16)\n",
    "\n",
    "for n_neighbors in neighbors_settings:\n",
    "    # build the model\n",
    "    clf = KNeighborsClassifier(n_neighbors=n_neighbors)\n",
    "    clf.fit(xtrain_data, ytrain_data)\n",
    "    # record training set accuracy\n",
    "    training_accuracy.append(clf.score(xtrain_data, ytrain_data))\n",
    "    # record generalization accuracy\n",
    "    test_accuracy.append(clf.score(xtest_data, ytest_data))\n",
    "    \n",
    "plt.plot(neighbors_settings, training_accuracy, label=\"training accuracy\")\n",
    "plt.plot(neighbors_settings, test_accuracy, label=\"test accuracy\")\n",
    "plt.ylabel(\"Accuracy\")\n",
    "plt.xlabel(\"n_neighbors\")\n",
    "plt.legend()"
   ]
  },
  {
   "cell_type": "code",
   "execution_count": 106,
   "metadata": {},
   "outputs": [
    {
     "name": "stdout",
     "output_type": "stream",
     "text": [
      "mean accuracy of 1 nearest neighbor(s) is 0.7599 \n",
      "mean accuracy of 3 nearest neighbor(s) is 0.7952 \n",
      "mean accuracy of 5 nearest neighbor(s) is 0.8095 \n",
      "mean accuracy of 7 nearest neighbor(s) is 0.8215 \n",
      "mean accuracy of 9 nearest neighbor(s) is 0.8239 \n",
      "mean accuracy of 11 nearest neighbor(s) is 0.8258 \n",
      "mean accuracy of 15 nearest neighbor(s) is 0.8329 \n",
      "mean accuracy of 17 nearest neighbor(s) is 0.8339 \n",
      "mean accuracy of 19 nearest neighbor(s) is 0.8315 \n",
      "mean accuracy of 21 nearest neighbor(s) is 0.831 \n"
     ]
    }
   ],
   "source": [
    "# KNeighborsClassifier is a class --> go to the source\n",
    "# http://scikit-learn.org/stable/modules/generated/sklearn.neighbors.KNeighborsClassifier.html#sklearn.neighbors.KNeighborsClassifier.score\n",
    "for k in [1, 3, 5, 7, 9,11,15,17,19,21]:\n",
    "    knn = KNeighborsClassifier(n_neighbors = k)\n",
    "    knn.fit(xtrain_data, ytrain_data) #construct the BallTree or KDTree\n",
    "    y_test_pred = knn.predict(xtest_data)\n",
    "    cfm = confusion_matrix(ytest_data, y_test_pred)\n",
    "    #print('KNN confusion matrix for test set\\n', cfm)\n",
    "    mean_acc = knn.score(xtest_data, ytest_data)\n",
    "    print('mean accuracy of {} nearest neighbor(s) is {} '.format(k, round(mean_acc, 4)))"
   ]
  },
  {
   "cell_type": "code",
   "execution_count": 107,
   "metadata": {},
   "outputs": [
    {
     "name": "stdout",
     "output_type": "stream",
     "text": [
      "k: 1. Recall: 0.54 (+/- 0.03)\n",
      "k: 3. Recall: 0.57 (+/- 0.05)\n",
      "k: 5. Recall: 0.54 (+/- 0.04)\n",
      "k: 7. Recall: 0.51 (+/- 0.06)\n",
      "k: 9. Recall: 0.49 (+/- 0.07)\n"
     ]
    }
   ],
   "source": [
    "for k in [1, 3, 5, 7, 9]:\n",
    "    knn = KNeighborsClassifier(n_neighbors = k)\n",
    "    scores = cross_val_score(knn, xtest_data, ytest_data, cv=5, scoring = 'precision_macro')\n",
    "    #print(scores)\n",
    "    print(\"k: %d. Recall: %0.2f (+/- %0.2f)\" % (k, scores.mean(), scores.std()))"
   ]
  },
  {
   "cell_type": "markdown",
   "metadata": {},
   "source": [
    "## Naive Bayes"
   ]
  },
  {
   "cell_type": "code",
   "execution_count": 108,
   "metadata": {},
   "outputs": [
    {
     "name": "stdout",
     "output_type": "stream",
     "text": [
      "Training accuracy = 97.98\n",
      "Testing accuracy = 98.14\n"
     ]
    },
    {
     "data": {
      "text/plain": [
       "0.9441260744985673"
      ]
     },
     "execution_count": 108,
     "metadata": {},
     "output_type": "execute_result"
    }
   ],
   "source": [
    "model = GaussianNB()\n",
    "model.fit(xtrain_data, ytrain_data)\n",
    "ymodel = model.predict(xtest_data)\n",
    "#The training score is reported 79.2%.\n",
    "acc_gauss1 = round(model.score(xtrain_data, ytrain_data) * 100, 2)\n",
    "print ('Training accuracy = {}'.format(acc_gauss1))\n",
    "acc_gauss = round(accuracy_score(ytest_data, ymodel) * 100, 2)\n",
    "print ('Testing accuracy = {}'.format(acc_gauss))\n",
    "#get area under roc curve from model used above\n",
    "roc_auc_score(ytest_data, ymodel)"
   ]
  },
  {
   "cell_type": "markdown",
   "metadata": {},
   "source": [
    "## Logistic Regression"
   ]
  },
  {
   "cell_type": "code",
   "execution_count": 109,
   "metadata": {},
   "outputs": [
    {
     "name": "stdout",
     "output_type": "stream",
     "text": [
      "Training set score: 1.000\n",
      "Test set score: 1.000\n"
     ]
    },
    {
     "data": {
      "text/plain": [
       "1.0"
      ]
     },
     "execution_count": 109,
     "metadata": {},
     "output_type": "execute_result"
    }
   ],
   "source": [
    "logreg = LogisticRegression().fit(xtrain_data, ytrain_data)\n",
    "y_model_log = logreg.predict(xtest_data)\n",
    "print(\"Training set score: {:.3f}\".format(logreg.score(xtrain_data, ytrain_data)))\n",
    "print(\"Test set score: {:.3f}\".format(logreg.score(xtest_data, ytest_data)))\n",
    "#get area under roc curve from model used above\n",
    "roc_auc_score(ytest_data, y_model_log)"
   ]
  },
  {
   "cell_type": "code",
   "execution_count": 110,
   "metadata": {},
   "outputs": [
    {
     "name": "stdout",
     "output_type": "stream",
     "text": [
      "Fitting 3 folds for each of 14 candidates, totalling 42 fits\n"
     ]
    },
    {
     "name": "stderr",
     "output_type": "stream",
     "text": [
      "[Parallel(n_jobs=1)]: Done  42 out of  42 | elapsed:   19.7s finished\n"
     ]
    },
    {
     "data": {
      "text/plain": [
       "GridSearchCV(cv=3, error_score='raise',\n",
       "       estimator=LogisticRegression(C=1.0, class_weight=None, dual=False, fit_intercept=True,\n",
       "          intercept_scaling=1, max_iter=100, multi_class='ovr', n_jobs=1,\n",
       "          penalty='l2', random_state=0, solver='liblinear', tol=0.0001,\n",
       "          verbose=0, warm_start=False),\n",
       "       fit_params=None, iid=True, n_jobs=1,\n",
       "       param_grid={'penalty': ['l2', 'l1'], 'C': [0.001, 0.01, 0.1, 1, 10, 100, 1000]},\n",
       "       pre_dispatch='2*n_jobs', refit=True, return_train_score='warn',\n",
       "       scoring='accuracy', verbose=1)"
      ]
     },
     "execution_count": 110,
     "metadata": {},
     "output_type": "execute_result"
    }
   ],
   "source": [
    "rs = 0\n",
    "logitR = LogisticRegression(random_state = rs)\n",
    "\n",
    "param_grid = {\n",
    "            'penalty' : ['l2','l1'],  \n",
    "            'C' : [0.001, 0.01, 0.1, 1, 10, 100, 1000]}\n",
    "clf = GridSearchCV(estimator = logitR, cv = 3, param_grid = param_grid , scoring = 'accuracy', verbose = 1)\n",
    "clf.fit(xtrain_data, ytrain_data)"
   ]
  },
  {
   "cell_type": "code",
   "execution_count": 111,
   "metadata": {},
   "outputs": [
    {
     "name": "stdout",
     "output_type": "stream",
     "text": [
      "mean test scores:  [0.86582843 0.83590641 0.93554035 0.99729429 0.99761261 0.99968168\n",
      " 0.99952252 0.99984084 0.99968168 1.         0.99968168 1.\n",
      " 0.99968168 1.        ]\n",
      "best score:  1.0\n",
      "best  parameters:  {'C': 10, 'penalty': 'l1'}\n",
      "best  parameters:  make_scorer(accuracy_score)\n"
     ]
    }
   ],
   "source": [
    "# 2. Parameters and methods in GridSearchCV class\n",
    "# 2.1 parameters\n",
    "clf.cv_results_  # output the results (average and all folds)\n",
    "print('mean test scores: ', clf.cv_results_['mean_test_score']) # average test score on all folds\n",
    "print('best score: ', clf.best_score_)\n",
    "print('best  parameters: ', clf.best_params_)\n",
    "print('best  parameters: ', clf.scorer_)\n",
    "# 2.2 methods of class GridSearchCV\n",
    "# fit(X,y) # train models for all combinations of parameters using k-fold cross-validation\n",
    "# predict(X,y) # use the model with the best found parameter"
   ]
  },
  {
   "cell_type": "code",
   "execution_count": 112,
   "metadata": {},
   "outputs": [],
   "source": [
    "def show_metrics(cm):\n",
    "    '''This function calculates the accuracy, precision, recall ratio and F1 score using the \n",
    "    confusion matrix of a two-class problems.\n",
    "    Malignant tumors and benign tumors are negative\n",
    "\n",
    "    :param cm: 2*2 confision matrix \n",
    "    '''    \n",
    "\n",
    "    tp = cm[1,1] #true postive (true label)1-->1(prediction)\n",
    "    fn = cm[1,0] #false negative 1-->0\n",
    "    fp = cm[0,1] #false positive 0-->1\n",
    "    tn = cm[0,0] #true negative  0-->0\n",
    "    \n",
    "    precision = tp/(tp+fp)\n",
    "    recallR = tp/(tp+fn)\n",
    "    acc = (tp+tn)/(tp+tn+fp+fn)\n",
    "    print('Accuracy  =    {:.3f}'.format(acc))\n",
    "    print('Precision =    {:.3f}'.format(precision))\n",
    "    print('Recall ratio = {:.3f}'.format(recallR))\n",
    "    print('F1_score =    {:.3f}'.format(2*(recallR * precision)/(recallR + precision)))"
   ]
  },
  {
   "cell_type": "code",
   "execution_count": 113,
   "metadata": {},
   "outputs": [
    {
     "name": "stdout",
     "output_type": "stream",
     "text": [
      "[[1746    0]\n",
      " [   0  349]]\n",
      "Accuracy  =    1.000\n",
      "Precision =    1.000\n",
      "Recall ratio = 1.000\n",
      "F1_score =    1.000\n"
     ]
    }
   ],
   "source": [
    "best_ps =clf.best_params_\n",
    "best_clf = LogisticRegression(C = best_ps['C'], \n",
    "                                penalty = best_ps['penalty'], \n",
    "                                random_state = rs)\n",
    "best_clf.fit(xtrain_data, ytrain_data)\n",
    "y_test_pred = best_clf.predict(xtest_data)\n",
    "cm = confusion_matrix(ytest_data, y_test_pred)\n",
    "print(cm)\n",
    "show_metrics(cm)"
   ]
  },
  {
   "cell_type": "code",
   "execution_count": 114,
   "metadata": {},
   "outputs": [
    {
     "name": "stdout",
     "output_type": "stream",
     "text": [
      "Training set score: 0.963\n",
      "Test set score: 0.958\n"
     ]
    },
    {
     "data": {
      "text/plain": [
       "1.0"
      ]
     },
     "execution_count": 114,
     "metadata": {},
     "output_type": "execute_result"
    }
   ],
   "source": [
    "logreg001 = LogisticRegression(C=0.01).fit(xtrain_data, ytrain_data)\n",
    "y_model_log_001 = logreg.predict(xtest_data)\n",
    "print(\"Training set score: {:.3f}\".format(logreg001.score(xtrain_data, ytrain_data)))\n",
    "print(\"Test set score: {:.3f}\".format(logreg001.score(xtest_data, ytest_data)))\n",
    "#get area under roc curve from model used above\n",
    "roc_auc_score(ytest_data, y_model_log_001)"
   ]
  },
  {
   "cell_type": "markdown",
   "metadata": {},
   "source": [
    "## Decision Tree"
   ]
  },
  {
   "cell_type": "code",
   "execution_count": 115,
   "metadata": {},
   "outputs": [
    {
     "name": "stdout",
     "output_type": "stream",
     "text": [
      "Accuracy on training set: 1.000\n",
      "Accuracy on test set: 1.000\n"
     ]
    },
    {
     "data": {
      "text/plain": [
       "1.0"
      ]
     },
     "execution_count": 115,
     "metadata": {},
     "output_type": "execute_result"
    }
   ],
   "source": [
    "tree = DecisionTreeClassifier(random_state=0)\n",
    "tree.fit(xtrain_data, ytrain_data)\n",
    "y_model_dectree = tree.predict(xtest_data)\n",
    "print(\"Accuracy on training set: {:.3f}\".format(tree.score(xtrain_data, ytrain_data)))\n",
    "print(\"Accuracy on test set: {:.3f}\".format(tree.score(xtest_data, ytest_data)))\n",
    "#get area under roc curve from model used above\n",
    "roc_auc_score(ytest_data, y_model_dectree)"
   ]
  },
  {
   "cell_type": "code",
   "execution_count": 116,
   "metadata": {},
   "outputs": [
    {
     "name": "stdout",
     "output_type": "stream",
     "text": [
      "Results of the OLS:\n",
      "MSE Train:  0.056\n",
      "MSE Test:  0.059\n",
      "R^2 Train:  0.591\n",
      "R^2 Test:  0.578\n"
     ]
    }
   ],
   "source": [
    "# Evaluation function\n",
    "def regression_metrics(y_train, y_train_pred, y_test, y_test_pred):\n",
    "    print('MSE Train: ', round(mse(y_train, y_train_pred), 3))\n",
    "    print('MSE Test: ', round(mse(y_test, y_test_pred), 3))\n",
    "\n",
    "    print('R^2 Train: ', round(r_2(y_train, y_train_pred), 3))\n",
    "    print('R^2 Test: ', round(r_2(y_test, y_test_pred), 3))\n",
    "\n",
    "# OLS: ordinary least squares\n",
    "slr = LinearRegression()\n",
    "slr.fit(xtrain_data, ytrain_data)\n",
    "y_train_pred = slr.predict(xtrain_data)\n",
    "y_test_pred = slr.predict(xtest_data)\n",
    "\n",
    "print('Results of the OLS:')\n",
    "regression_metrics(ytrain_data, y_train_pred, ytest_data, y_test_pred)"
   ]
  },
  {
   "cell_type": "markdown",
   "metadata": {},
   "source": [
    "## Random Forest"
   ]
  },
  {
   "cell_type": "code",
   "execution_count": 117,
   "metadata": {},
   "outputs": [
    {
     "name": "stdout",
     "output_type": "stream",
     "text": [
      "Accuracy on training set: 1.000\n",
      "Accuracy on test set: 0.994\n"
     ]
    },
    {
     "data": {
      "text/plain": [
       "0.9828080229226361"
      ]
     },
     "execution_count": 117,
     "metadata": {},
     "output_type": "execute_result"
    }
   ],
   "source": [
    "forest = RandomForestClassifier(n_estimators=100, random_state=0)\n",
    "forest.fit(xtrain_data, ytrain_data)\n",
    "y_model_randomfor = forest.predict(xtest_data)\n",
    "print(\"Accuracy on training set: {:.3f}\".format(forest.score(xtrain_data, ytrain_data)))\n",
    "print(\"Accuracy on test set: {:.3f}\".format(forest.score(xtest_data, ytest_data)))\n",
    "roc_auc_score(ytest_data, y_model_randomfor)"
   ]
  },
  {
   "cell_type": "markdown",
   "metadata": {},
   "source": [
    "## Support Vector Machine (SVM)"
   ]
  },
  {
   "cell_type": "code",
   "execution_count": 118,
   "metadata": {},
   "outputs": [
    {
     "name": "stdout",
     "output_type": "stream",
     "text": [
      "Accuracy on training set: 1.00\n",
      "Accuracy on test set: 0.83\n"
     ]
    }
   ],
   "source": [
    "svc = SVC(C=1000)\n",
    "svc.fit(xtrain_data, ytrain_data)\n",
    "print(\"Accuracy on training set: {:.2f}\".format(svc.score(xtrain_data, ytrain_data)))\n",
    "print(\"Accuracy on test set: {:.2f}\".format(svc.score(xtest_data, ytest_data)))"
   ]
  },
  {
   "cell_type": "code",
   "execution_count": 119,
   "metadata": {},
   "outputs": [
    {
     "name": "stdout",
     "output_type": "stream",
     "text": [
      "Confusion matrix:\n",
      " [[1746    0]\n",
      " [   0  349]]\n",
      "Accuracy  =    1.000\n",
      "Precision =    1.000\n",
      "Recall ratio = 1.000\n",
      "F1_score =    1.000\n"
     ]
    },
    {
     "data": {
      "text/plain": [
       "1.0"
      ]
     },
     "execution_count": 119,
     "metadata": {},
     "output_type": "execute_result"
    }
   ],
   "source": [
    "y_test_pred = clf.predict(xtest_data)\n",
    "cm = confusion_matrix(ytest_data, y_test_pred)\n",
    "print('Confusion matrix:\\n', cm)\n",
    "show_metrics(cm)\n",
    "roc_auc_score(ytest_data,y_test_pred)"
   ]
  },
  {
   "cell_type": "markdown",
   "metadata": {},
   "source": [
    " ## Neural Networks"
   ]
  },
  {
   "cell_type": "code",
   "execution_count": 120,
   "metadata": {},
   "outputs": [
    {
     "name": "stdout",
     "output_type": "stream",
     "text": [
      "Accuracy on training set: 0.82\n",
      "Accuracy on test set: 0.81\n"
     ]
    },
    {
     "data": {
      "text/plain": [
       "0.8172482661966609"
      ]
     },
     "execution_count": 120,
     "metadata": {},
     "output_type": "execute_result"
    }
   ],
   "source": [
    "mlp = MLPClassifier(random_state=42)\n",
    "mlp.fit(xtrain_data, ytrain_data)\n",
    "y_model_NN = mlp.predict(xtest_data)\n",
    "print(\"Accuracy on training set: {:.2f}\".format(mlp.score(xtrain_data, ytrain_data)))\n",
    "print(\"Accuracy on test set: {:.2f}\".format(mlp.score(xtest_data, ytest_data)))\n",
    "roc_auc_score(ytest_data, y_model_NN)"
   ]
  }
 ],
 "metadata": {
  "kernelspec": {
   "display_name": "Python 3",
   "language": "python",
   "name": "python3"
  },
  "language_info": {
   "codemirror_mode": {
    "name": "ipython",
    "version": 3
   },
   "file_extension": ".py",
   "mimetype": "text/x-python",
   "name": "python",
   "nbconvert_exporter": "python",
   "pygments_lexer": "ipython3",
   "version": "3.7.0"
  }
 },
 "nbformat": 4,
 "nbformat_minor": 2
}
