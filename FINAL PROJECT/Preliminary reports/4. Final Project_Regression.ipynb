{
 "cells": [
  {
   "cell_type": "markdown",
   "metadata": {},
   "source": [
    "## Supervised - Regression"
   ]
  },
  {
   "cell_type": "code",
   "execution_count": 51,
   "metadata": {},
   "outputs": [],
   "source": [
    "import warnings\n",
    "warnings.filterwarnings(\"ignore\")\n",
    "from colorama import Fore, Back, Style \n",
    "import pandas as pd\n",
    "import os\n",
    "import numpy as np\n",
    "#import scattertext as st\n",
    "import seaborn as sns\n",
    "from sklearn.feature_extraction.text import CountVectorizer\n",
    "from sklearn.decomposition import PCA\n",
    "from sklearn.preprocessing import StandardScaler\n",
    "from sklearn.feature_extraction.text import TfidfVectorizer\n",
    "from sklearn.cross_validation import train_test_split\n",
    "from sklearn.model_selection import GridSearchCV\n",
    "from sklearn.model_selection import cross_val_score\n",
    "from sklearn.linear_model import LinearRegression\n",
    "from sklearn.linear_model import Ridge\n",
    "from sklearn.neighbors import KNeighborsRegressor\n",
    "from sklearn.linear_model import Lasso\n",
    "from sklearn.tree import DecisionTreeRegressor\n",
    "from sklearn.ensemble import GradientBoostingRegressor\n",
    "from sklearn.ensemble import AdaBoostRegressor\n",
    "from sklearn.ensemble import ExtraTreesRegressor\n",
    "from sklearn.ensemble import RandomForestRegressor\n",
    "from sklearn.gaussian_process import GaussianProcessRegressor\n",
    "from sklearn.linear_model import ARDRegression\n",
    "from sklearn.ensemble import BaggingRegressor\n",
    "from scipy.cluster.hierarchy import dendrogram, linkage\n",
    "#from wordcloud import WordCloud\n",
    "import matplotlib.pyplot as plt"
   ]
  },
  {
   "cell_type": "code",
   "execution_count": 52,
   "metadata": {},
   "outputs": [],
   "source": [
    "data = pd.read_csv(\"https://raw.githubusercontent.com/vigneshjmurali/Statistical-Predictive-Modelling/master/Datasets/data2.csv\")\n",
    "#data.head(3)"
   ]
  },
  {
   "cell_type": "code",
   "execution_count": 53,
   "metadata": {},
   "outputs": [],
   "source": [
    "#data.columns\n",
    "#data.dtypes"
   ]
  },
  {
   "cell_type": "markdown",
   "metadata": {},
   "source": [
    "## Preprocessing"
   ]
  },
  {
   "cell_type": "code",
   "execution_count": 54,
   "metadata": {},
   "outputs": [],
   "source": [
    "vec = TfidfVectorizer()\n",
    "X = vec.fit_transform(data['field'].values.astype('str'))\n",
    "field = pd.DataFrame(X.toarray(), columns=vec.get_feature_names())\n",
    "vec = TfidfVectorizer()\n",
    "X = vec.fit_transform(data['gender'].values.astype('str'))\n",
    "gender = pd.DataFrame(X.toarray(), columns=vec.get_feature_names())\n",
    "vec = TfidfVectorizer()\n",
    "X = vec.fit_transform(data['race'].values.astype('str'))\n",
    "race = pd.DataFrame(X.toarray(), columns=vec.get_feature_names())\n",
    "vec = TfidfVectorizer()\n",
    "X = vec.fit_transform(data['race_o'].values.astype('str'))\n",
    "race_o= pd.DataFrame(X.toarray(), columns=vec.get_feature_names())\n",
    "data = pd.merge(data, field, left_index=True, right_index=True)\n",
    "data = pd.merge(data, gender, left_index=True, right_index=True)\n",
    "data = pd.merge(data, race, left_index=True, right_index=True)\n",
    "data = pd.merge(data, race_o, left_index=True, right_index=True)\n",
    "data = data.drop(['field','gender','race','race_o'], axis = 1) #drops the now redundant columns"
   ]
  },
  {
   "cell_type": "code",
   "execution_count": 55,
   "metadata": {},
   "outputs": [
    {
     "data": {
      "text/html": [
       "<div>\n",
       "<style scoped>\n",
       "    .dataframe tbody tr th:only-of-type {\n",
       "        vertical-align: middle;\n",
       "    }\n",
       "\n",
       "    .dataframe tbody tr th {\n",
       "        vertical-align: top;\n",
       "    }\n",
       "\n",
       "    .dataframe thead th {\n",
       "        text-align: right;\n",
       "    }\n",
       "</style>\n",
       "<table border=\"1\" class=\"dataframe\">\n",
       "  <thead>\n",
       "    <tr style=\"text-align: right;\">\n",
       "      <th></th>\n",
       "      <th>Unnamed: 0</th>\n",
       "      <th>has_null</th>\n",
       "      <th>wave</th>\n",
       "      <th>age</th>\n",
       "      <th>age_o</th>\n",
       "      <th>d_age</th>\n",
       "      <th>d_d_age</th>\n",
       "      <th>samerace</th>\n",
       "      <th>importance_same_race</th>\n",
       "      <th>importance_same_religion</th>\n",
       "      <th>...</th>\n",
       "      <th>american</th>\n",
       "      <th>asian_y</th>\n",
       "      <th>black_y</th>\n",
       "      <th>caucasian_y</th>\n",
       "      <th>european_y</th>\n",
       "      <th>hispanic_y</th>\n",
       "      <th>islander_y</th>\n",
       "      <th>latino_y</th>\n",
       "      <th>other_y</th>\n",
       "      <th>pacific_y</th>\n",
       "    </tr>\n",
       "  </thead>\n",
       "  <tbody>\n",
       "    <tr>\n",
       "      <th>0</th>\n",
       "      <td>1</td>\n",
       "      <td>0</td>\n",
       "      <td>1</td>\n",
       "      <td>21</td>\n",
       "      <td>27</td>\n",
       "      <td>6</td>\n",
       "      <td>5</td>\n",
       "      <td>0</td>\n",
       "      <td>2</td>\n",
       "      <td>4</td>\n",
       "      <td>...</td>\n",
       "      <td>0.434931</td>\n",
       "      <td>0.000000</td>\n",
       "      <td>0.0</td>\n",
       "      <td>0.636724</td>\n",
       "      <td>0.636724</td>\n",
       "      <td>0.000000</td>\n",
       "      <td>0.000000</td>\n",
       "      <td>0.000000</td>\n",
       "      <td>0.0</td>\n",
       "      <td>0.000000</td>\n",
       "    </tr>\n",
       "    <tr>\n",
       "      <th>1</th>\n",
       "      <td>2</td>\n",
       "      <td>0</td>\n",
       "      <td>1</td>\n",
       "      <td>21</td>\n",
       "      <td>22</td>\n",
       "      <td>1</td>\n",
       "      <td>1</td>\n",
       "      <td>0</td>\n",
       "      <td>2</td>\n",
       "      <td>4</td>\n",
       "      <td>...</td>\n",
       "      <td>0.434931</td>\n",
       "      <td>0.000000</td>\n",
       "      <td>0.0</td>\n",
       "      <td>0.636724</td>\n",
       "      <td>0.636724</td>\n",
       "      <td>0.000000</td>\n",
       "      <td>0.000000</td>\n",
       "      <td>0.000000</td>\n",
       "      <td>0.0</td>\n",
       "      <td>0.000000</td>\n",
       "    </tr>\n",
       "    <tr>\n",
       "      <th>2</th>\n",
       "      <td>3</td>\n",
       "      <td>1</td>\n",
       "      <td>1</td>\n",
       "      <td>21</td>\n",
       "      <td>22</td>\n",
       "      <td>1</td>\n",
       "      <td>1</td>\n",
       "      <td>1</td>\n",
       "      <td>2</td>\n",
       "      <td>4</td>\n",
       "      <td>...</td>\n",
       "      <td>0.175081</td>\n",
       "      <td>0.803885</td>\n",
       "      <td>0.0</td>\n",
       "      <td>0.000000</td>\n",
       "      <td>0.000000</td>\n",
       "      <td>0.000000</td>\n",
       "      <td>0.401943</td>\n",
       "      <td>0.000000</td>\n",
       "      <td>0.0</td>\n",
       "      <td>0.401943</td>\n",
       "    </tr>\n",
       "    <tr>\n",
       "      <th>3</th>\n",
       "      <td>4</td>\n",
       "      <td>0</td>\n",
       "      <td>1</td>\n",
       "      <td>21</td>\n",
       "      <td>23</td>\n",
       "      <td>2</td>\n",
       "      <td>3</td>\n",
       "      <td>0</td>\n",
       "      <td>2</td>\n",
       "      <td>4</td>\n",
       "      <td>...</td>\n",
       "      <td>0.434931</td>\n",
       "      <td>0.000000</td>\n",
       "      <td>0.0</td>\n",
       "      <td>0.636724</td>\n",
       "      <td>0.636724</td>\n",
       "      <td>0.000000</td>\n",
       "      <td>0.000000</td>\n",
       "      <td>0.000000</td>\n",
       "      <td>0.0</td>\n",
       "      <td>0.000000</td>\n",
       "    </tr>\n",
       "    <tr>\n",
       "      <th>4</th>\n",
       "      <td>5</td>\n",
       "      <td>0</td>\n",
       "      <td>1</td>\n",
       "      <td>21</td>\n",
       "      <td>24</td>\n",
       "      <td>3</td>\n",
       "      <td>3</td>\n",
       "      <td>0</td>\n",
       "      <td>2</td>\n",
       "      <td>4</td>\n",
       "      <td>...</td>\n",
       "      <td>0.208280</td>\n",
       "      <td>0.000000</td>\n",
       "      <td>0.0</td>\n",
       "      <td>0.000000</td>\n",
       "      <td>0.000000</td>\n",
       "      <td>0.691599</td>\n",
       "      <td>0.000000</td>\n",
       "      <td>0.691599</td>\n",
       "      <td>0.0</td>\n",
       "      <td>0.000000</td>\n",
       "    </tr>\n",
       "  </tbody>\n",
       "</table>\n",
       "<p>5 rows × 155 columns</p>\n",
       "</div>"
      ],
      "text/plain": [
       "   Unnamed: 0  has_null  wave  age  age_o  d_age  d_d_age  samerace  \\\n",
       "0           1         0     1   21     27      6        5         0   \n",
       "1           2         0     1   21     22      1        1         0   \n",
       "2           3         1     1   21     22      1        1         1   \n",
       "3           4         0     1   21     23      2        3         0   \n",
       "4           5         0     1   21     24      3        3         0   \n",
       "\n",
       "   importance_same_race  importance_same_religion    ...      american  \\\n",
       "0                     2                         4    ...      0.434931   \n",
       "1                     2                         4    ...      0.434931   \n",
       "2                     2                         4    ...      0.175081   \n",
       "3                     2                         4    ...      0.434931   \n",
       "4                     2                         4    ...      0.208280   \n",
       "\n",
       "    asian_y  black_y  caucasian_y  european_y  hispanic_y  islander_y  \\\n",
       "0  0.000000      0.0     0.636724    0.636724    0.000000    0.000000   \n",
       "1  0.000000      0.0     0.636724    0.636724    0.000000    0.000000   \n",
       "2  0.803885      0.0     0.000000    0.000000    0.000000    0.401943   \n",
       "3  0.000000      0.0     0.636724    0.636724    0.000000    0.000000   \n",
       "4  0.000000      0.0     0.000000    0.000000    0.691599    0.000000   \n",
       "\n",
       "   latino_y  other_y  pacific_y  \n",
       "0  0.000000      0.0   0.000000  \n",
       "1  0.000000      0.0   0.000000  \n",
       "2  0.000000      0.0   0.401943  \n",
       "3  0.000000      0.0   0.000000  \n",
       "4  0.691599      0.0   0.000000  \n",
       "\n",
       "[5 rows x 155 columns]"
      ]
     },
     "execution_count": 55,
     "metadata": {},
     "output_type": "execute_result"
    }
   ],
   "source": [
    "data.head()"
   ]
  },
  {
   "cell_type": "code",
   "execution_count": 56,
   "metadata": {},
   "outputs": [
    {
     "name": "stdout",
     "output_type": "stream",
     "text": [
      "(8378, 155)\n"
     ]
    }
   ],
   "source": [
    "print(data.shape)\n",
    "#list(data.columns)"
   ]
  },
  {
   "cell_type": "markdown",
   "metadata": {},
   "source": [
    "## partition the data"
   ]
  },
  {
   "cell_type": "code",
   "execution_count": 57,
   "metadata": {},
   "outputs": [
    {
     "name": "stdout",
     "output_type": "stream",
     "text": [
      "(8378,)\n",
      "(8378, 154)\n"
     ]
    }
   ],
   "source": [
    "y_data = data['match']\n",
    "x_data = data.drop('match', axis=1)\n",
    "xtrain, xtest, ytrain, ytest = train_test_split(x_data, y_data,random_state=9)\n",
    "Xcolnames = list(x_data)\n",
    "print(y_data.shape); print(x_data.shape)"
   ]
  },
  {
   "cell_type": "markdown",
   "metadata": {},
   "source": [
    "## Linear Regression"
   ]
  },
  {
   "cell_type": "code",
   "execution_count": 58,
   "metadata": {},
   "outputs": [
    {
     "name": "stdout",
     "output_type": "stream",
     "text": [
      "Training set score: 0.60\n",
      "Test set score: 0.56\n",
      "\u001b[34mAverage cross-validation score: 0.55\n"
     ]
    }
   ],
   "source": [
    "lr = LinearRegression().fit(xtrain, ytrain)\n",
    "print(\"Training set score: {:.2f}\".format(lr.score(xtrain, ytrain)))\n",
    "print(\"Test set score: {:.2f}\".format(lr.score(xtest, ytest)))\n",
    "scores = cross_val_score(lr, x_data, y_data, cv=5)\n",
    "print(Fore.BLUE + \"Average cross-validation score: {:.2f}\".format(scores.mean()))"
   ]
  },
  {
   "cell_type": "markdown",
   "metadata": {},
   "source": [
    "## Ridge Regression"
   ]
  },
  {
   "cell_type": "code",
   "execution_count": 59,
   "metadata": {},
   "outputs": [
    {
     "name": "stdout",
     "output_type": "stream",
     "text": [
      "Training set score: 0.60\n",
      "Test set score: 0.56\n",
      "\u001b[34mAverage cross-validation score: 0.55\n"
     ]
    }
   ],
   "source": [
    "ridge = Ridge().fit(xtrain, ytrain)\n",
    "print(\"Training set score: {:.2f}\".format(ridge.score(xtrain, ytrain)))\n",
    "print(\"Test set score: {:.2f}\".format(ridge.score(xtest, ytest)))\n",
    "scores = cross_val_score(ridge, x_data, y_data, cv=5)\n",
    "print(Fore.BLUE +\"Average cross-validation score: {:.2f}\".format(scores.mean()))"
   ]
  },
  {
   "cell_type": "markdown",
   "metadata": {},
   "source": [
    "## KNN"
   ]
  },
  {
   "cell_type": "code",
   "execution_count": 60,
   "metadata": {},
   "outputs": [
    {
     "name": "stdout",
     "output_type": "stream",
     "text": [
      "Test set R^2: -0.19\n",
      "\u001b[34mAverage cross-validation score: -0.36\n"
     ]
    }
   ],
   "source": [
    "# instantiate the model and set the number of neighbors to consider to 3:\n",
    "reg = KNeighborsRegressor(n_neighbors=3)\n",
    "# fit the model using the training data and training targets:\n",
    "reg.fit(xtrain, ytrain)\n",
    "print(\"Test set R^2: {:.2f}\".format(reg.score(xtest, ytest)))\n",
    "scores = cross_val_score(reg, x_data, y_data, cv=5)\n",
    "print(Fore.BLUE +\"Average cross-validation score: {:.2f}\".format(scores.mean()))"
   ]
  },
  {
   "cell_type": "markdown",
   "metadata": {},
   "source": [
    "## Lasso"
   ]
  },
  {
   "cell_type": "code",
   "execution_count": 61,
   "metadata": {},
   "outputs": [
    {
     "name": "stdout",
     "output_type": "stream",
     "text": [
      "Training set score: 0.00\n",
      "Test set score: -0.00\n",
      "Number of features used: 1\n",
      "\u001b[34mAverage cross-validation score: -0.00\n"
     ]
    }
   ],
   "source": [
    "lasso = Lasso().fit(xtrain, ytrain)\n",
    "print(\"Training set score: {:.2f}\".format(lasso.score(xtrain, ytrain)))\n",
    "print(\"Test set score: {:.2f}\".format(lasso.score(xtest, ytest)))\n",
    "print(\"Number of features used: {}\".format(np.sum(lasso.coef_ != 0)))\n",
    "scores = cross_val_score(lasso, x_data,y_data, cv=5)\n",
    "print(Fore.BLUE +\"Average cross-validation score: {:.2f}\".format(scores.mean()))"
   ]
  },
  {
   "cell_type": "markdown",
   "metadata": {},
   "source": [
    "## Decision Tree Regression"
   ]
  },
  {
   "cell_type": "code",
   "execution_count": 62,
   "metadata": {},
   "outputs": [
    {
     "name": "stdout",
     "output_type": "stream",
     "text": [
      "Training set score: 1.00\n",
      "Test set score: 1.00\n",
      "\u001b[34mAverage cross-validation score: 1.00\n"
     ]
    }
   ],
   "source": [
    "tree = DecisionTreeRegressor().fit(xtrain, ytrain)\n",
    "print(\"Training set score: {:.2f}\".format(tree.score(xtrain, ytrain)))\n",
    "print(\"Test set score: {:.2f}\".format(tree.score(xtest, ytest)))\n",
    "scores = cross_val_score(tree, x_data,y_data, cv=5)\n",
    "print(Fore.BLUE +\"Average cross-validation score: {:.2f}\".format(scores.mean()))"
   ]
  },
  {
   "cell_type": "markdown",
   "metadata": {},
   "source": [
    "## Random Forest Regressor"
   ]
  },
  {
   "cell_type": "code",
   "execution_count": 63,
   "metadata": {},
   "outputs": [
    {
     "name": "stdout",
     "output_type": "stream",
     "text": [
      "Training set score: 1.00\n",
      "Test set score: 1.00\n",
      "\u001b[34mAverage cross-validation score: 1.00\n"
     ]
    }
   ],
   "source": [
    "rfr = RandomForestRegressor().fit(xtrain, ytrain)\n",
    "print(\"Training set score: {:.2f}\".format(rfr.score(xtrain, ytrain)))\n",
    "print(\"Test set score: {:.2f}\".format(rfr.score(xtest, ytest)))\n",
    "scores = cross_val_score(rfr, x_data,y_data, cv=5)\n",
    "print(Fore.BLUE +\"Average cross-validation score: {:.2f}\".format(scores.mean()))"
   ]
  },
  {
   "cell_type": "markdown",
   "metadata": {},
   "source": [
    "## Bagging Regressor"
   ]
  },
  {
   "cell_type": "code",
   "execution_count": 64,
   "metadata": {},
   "outputs": [
    {
     "name": "stdout",
     "output_type": "stream",
     "text": [
      "Training set score: 1.00\n",
      "Test set score: 1.00\n",
      "\u001b[34mAverage cross-validation score: 1.00\n"
     ]
    }
   ],
   "source": [
    "bingr = BaggingRegressor().fit(xtrain, ytrain)\n",
    "print(\"Training set score: {:.2f}\".format(bingr.score(xtrain, ytrain)))\n",
    "print(\"Test set score: {:.2f}\".format(bingr.score(xtest, ytest)))\n",
    "scores = cross_val_score(bingr, x_data,y_data, cv=5)\n",
    "print(Fore.BLUE +\"Average cross-validation score: {:.2f}\".format(scores.mean()))"
   ]
  },
  {
   "cell_type": "markdown",
   "metadata": {},
   "source": [
    "## Gaussian Process Regressor"
   ]
  },
  {
   "cell_type": "code",
   "execution_count": 65,
   "metadata": {},
   "outputs": [
    {
     "name": "stdout",
     "output_type": "stream",
     "text": [
      "Training set score: 1.00\n",
      "Test set score: -0.18\n"
     ]
    }
   ],
   "source": [
    "gpr = GaussianProcessRegressor().fit(xtrain, ytrain)\n",
    "print(\"Training set score: {:.2f}\".format(gpr.score(xtrain, ytrain)))\n",
    "print(\"Test set score: {:.2f}\".format(gpr.score(xtest, ytest)))"
   ]
  }
 ],
 "metadata": {
  "kernelspec": {
   "display_name": "Python 3",
   "language": "python",
   "name": "python3"
  },
  "language_info": {
   "codemirror_mode": {
    "name": "ipython",
    "version": 3
   },
   "file_extension": ".py",
   "mimetype": "text/x-python",
   "name": "python",
   "nbconvert_exporter": "python",
   "pygments_lexer": "ipython3",
   "version": "3.7.0"
  }
 },
 "nbformat": 4,
 "nbformat_minor": 2
}
